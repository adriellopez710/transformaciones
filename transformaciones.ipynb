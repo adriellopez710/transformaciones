{
  "nbformat": 4,
  "nbformat_minor": 0,
  "metadata": {
    "colab": {
      "provenance": []
    },
    "kernelspec": {
      "name": "python3",
      "display_name": "Python 3"
    },
    "language_info": {
      "name": "python"
    }
  },
  "cells": [
    {
      "cell_type": "markdown",
      "source": [
        "Cargando archivos desde la unidad local\n",
        "\n",
        "\n"
      ],
      "metadata": {
        "id": "VdGShz9XznE0"
      }
    },
    {
      "cell_type": "code",
      "execution_count": 1,
      "metadata": {
        "colab": {
          "base_uri": "https://localhost:8080/",
          "height": 78
        },
        "id": "Bnly4xPmyQ79",
        "outputId": "47cd4d0c-d69a-43cf-ebaa-8e79affc4893"
      },
      "outputs": [
        {
          "output_type": "display_data",
          "data": {
            "text/plain": [
              "<IPython.core.display.HTML object>"
            ],
            "text/html": [
              "\n",
              "     <input type=\"file\" id=\"files-066f380b-59a4-4fe6-bd6e-561aec5228f6\" name=\"files[]\" multiple disabled\n",
              "        style=\"border:none\" />\n",
              "     <output id=\"result-066f380b-59a4-4fe6-bd6e-561aec5228f6\">\n",
              "      Upload widget is only available when the cell has been executed in the\n",
              "      current browser session. Please rerun this cell to enable.\n",
              "      </output>\n",
              "      <script>// Copyright 2017 Google LLC\n",
              "//\n",
              "// Licensed under the Apache License, Version 2.0 (the \"License\");\n",
              "// you may not use this file except in compliance with the License.\n",
              "// You may obtain a copy of the License at\n",
              "//\n",
              "//      http://www.apache.org/licenses/LICENSE-2.0\n",
              "//\n",
              "// Unless required by applicable law or agreed to in writing, software\n",
              "// distributed under the License is distributed on an \"AS IS\" BASIS,\n",
              "// WITHOUT WARRANTIES OR CONDITIONS OF ANY KIND, either express or implied.\n",
              "// See the License for the specific language governing permissions and\n",
              "// limitations under the License.\n",
              "\n",
              "/**\n",
              " * @fileoverview Helpers for google.colab Python module.\n",
              " */\n",
              "(function(scope) {\n",
              "function span(text, styleAttributes = {}) {\n",
              "  const element = document.createElement('span');\n",
              "  element.textContent = text;\n",
              "  for (const key of Object.keys(styleAttributes)) {\n",
              "    element.style[key] = styleAttributes[key];\n",
              "  }\n",
              "  return element;\n",
              "}\n",
              "\n",
              "// Max number of bytes which will be uploaded at a time.\n",
              "const MAX_PAYLOAD_SIZE = 100 * 1024;\n",
              "\n",
              "function _uploadFiles(inputId, outputId) {\n",
              "  const steps = uploadFilesStep(inputId, outputId);\n",
              "  const outputElement = document.getElementById(outputId);\n",
              "  // Cache steps on the outputElement to make it available for the next call\n",
              "  // to uploadFilesContinue from Python.\n",
              "  outputElement.steps = steps;\n",
              "\n",
              "  return _uploadFilesContinue(outputId);\n",
              "}\n",
              "\n",
              "// This is roughly an async generator (not supported in the browser yet),\n",
              "// where there are multiple asynchronous steps and the Python side is going\n",
              "// to poll for completion of each step.\n",
              "// This uses a Promise to block the python side on completion of each step,\n",
              "// then passes the result of the previous step as the input to the next step.\n",
              "function _uploadFilesContinue(outputId) {\n",
              "  const outputElement = document.getElementById(outputId);\n",
              "  const steps = outputElement.steps;\n",
              "\n",
              "  const next = steps.next(outputElement.lastPromiseValue);\n",
              "  return Promise.resolve(next.value.promise).then((value) => {\n",
              "    // Cache the last promise value to make it available to the next\n",
              "    // step of the generator.\n",
              "    outputElement.lastPromiseValue = value;\n",
              "    return next.value.response;\n",
              "  });\n",
              "}\n",
              "\n",
              "/**\n",
              " * Generator function which is called between each async step of the upload\n",
              " * process.\n",
              " * @param {string} inputId Element ID of the input file picker element.\n",
              " * @param {string} outputId Element ID of the output display.\n",
              " * @return {!Iterable<!Object>} Iterable of next steps.\n",
              " */\n",
              "function* uploadFilesStep(inputId, outputId) {\n",
              "  const inputElement = document.getElementById(inputId);\n",
              "  inputElement.disabled = false;\n",
              "\n",
              "  const outputElement = document.getElementById(outputId);\n",
              "  outputElement.innerHTML = '';\n",
              "\n",
              "  const pickedPromise = new Promise((resolve) => {\n",
              "    inputElement.addEventListener('change', (e) => {\n",
              "      resolve(e.target.files);\n",
              "    });\n",
              "  });\n",
              "\n",
              "  const cancel = document.createElement('button');\n",
              "  inputElement.parentElement.appendChild(cancel);\n",
              "  cancel.textContent = 'Cancel upload';\n",
              "  const cancelPromise = new Promise((resolve) => {\n",
              "    cancel.onclick = () => {\n",
              "      resolve(null);\n",
              "    };\n",
              "  });\n",
              "\n",
              "  // Wait for the user to pick the files.\n",
              "  const files = yield {\n",
              "    promise: Promise.race([pickedPromise, cancelPromise]),\n",
              "    response: {\n",
              "      action: 'starting',\n",
              "    }\n",
              "  };\n",
              "\n",
              "  cancel.remove();\n",
              "\n",
              "  // Disable the input element since further picks are not allowed.\n",
              "  inputElement.disabled = true;\n",
              "\n",
              "  if (!files) {\n",
              "    return {\n",
              "      response: {\n",
              "        action: 'complete',\n",
              "      }\n",
              "    };\n",
              "  }\n",
              "\n",
              "  for (const file of files) {\n",
              "    const li = document.createElement('li');\n",
              "    li.append(span(file.name, {fontWeight: 'bold'}));\n",
              "    li.append(span(\n",
              "        `(${file.type || 'n/a'}) - ${file.size} bytes, ` +\n",
              "        `last modified: ${\n",
              "            file.lastModifiedDate ? file.lastModifiedDate.toLocaleDateString() :\n",
              "                                    'n/a'} - `));\n",
              "    const percent = span('0% done');\n",
              "    li.appendChild(percent);\n",
              "\n",
              "    outputElement.appendChild(li);\n",
              "\n",
              "    const fileDataPromise = new Promise((resolve) => {\n",
              "      const reader = new FileReader();\n",
              "      reader.onload = (e) => {\n",
              "        resolve(e.target.result);\n",
              "      };\n",
              "      reader.readAsArrayBuffer(file);\n",
              "    });\n",
              "    // Wait for the data to be ready.\n",
              "    let fileData = yield {\n",
              "      promise: fileDataPromise,\n",
              "      response: {\n",
              "        action: 'continue',\n",
              "      }\n",
              "    };\n",
              "\n",
              "    // Use a chunked sending to avoid message size limits. See b/62115660.\n",
              "    let position = 0;\n",
              "    do {\n",
              "      const length = Math.min(fileData.byteLength - position, MAX_PAYLOAD_SIZE);\n",
              "      const chunk = new Uint8Array(fileData, position, length);\n",
              "      position += length;\n",
              "\n",
              "      const base64 = btoa(String.fromCharCode.apply(null, chunk));\n",
              "      yield {\n",
              "        response: {\n",
              "          action: 'append',\n",
              "          file: file.name,\n",
              "          data: base64,\n",
              "        },\n",
              "      };\n",
              "\n",
              "      let percentDone = fileData.byteLength === 0 ?\n",
              "          100 :\n",
              "          Math.round((position / fileData.byteLength) * 100);\n",
              "      percent.textContent = `${percentDone}% done`;\n",
              "\n",
              "    } while (position < fileData.byteLength);\n",
              "  }\n",
              "\n",
              "  // All done.\n",
              "  yield {\n",
              "    response: {\n",
              "      action: 'complete',\n",
              "    }\n",
              "  };\n",
              "}\n",
              "\n",
              "scope.google = scope.google || {};\n",
              "scope.google.colab = scope.google.colab || {};\n",
              "scope.google.colab._files = {\n",
              "  _uploadFiles,\n",
              "  _uploadFilesContinue,\n",
              "};\n",
              "})(self);\n",
              "</script> "
            ]
          },
          "metadata": {}
        },
        {
          "output_type": "stream",
          "name": "stdout",
          "text": [
            "Saving amazon_prime_titles.csv to amazon_prime_titles.csv\n"
          ]
        }
      ],
      "source": [
        "from google.colab import files\n",
        " \n",
        " \n",
        "uploaded = files.upload()\n"
      ]
    },
    {
      "cell_type": "markdown",
      "source": [
        "Importando a un marco de datos de Pandas"
      ],
      "metadata": {
        "id": "30oWkF9Zz60X"
      }
    },
    {
      "cell_type": "code",
      "source": [
        "import pandas as pd\n",
        "import io\n",
        " \n",
        "am = pd.read_csv(io.BytesIO(uploaded['amazon_prime_titles.csv']))"
      ],
      "metadata": {
        "id": "t1BRjXYg0IfK"
      },
      "execution_count": 2,
      "outputs": []
    },
    {
      "cell_type": "markdown",
      "source": [
        "* Generar campo id: Cada id se compondrá de la primera letra del nombre de la plataforma, seguido del show_id ya presente en los datasets (ejemplo para títulos de Amazon = as123).\n",
        "* Se devuelven las listas con las iniciales y el show_id para cada plataforma correcopondiente:"
      ],
      "metadata": {
        "id": "BX_qKkqokPp2"
      }
    },
    {
      "cell_type": "code",
      "source": [
        "inicial='a'\n",
        "\n",
        "am[\"show_id\"] = inicial+am[\"show_id\"]\n",
        "\n",
        "print(am.show_id)\n"
      ],
      "metadata": {
        "id": "thl_9F2A7BAD",
        "colab": {
          "base_uri": "https://localhost:8080/",
          "height": 0
        },
        "outputId": "9a8c9df8-7ce0-4f68-94de-fc5f86f60504"
      },
      "execution_count": 3,
      "outputs": [
        {
          "output_type": "stream",
          "name": "stdout",
          "text": [
            "0          as1\n",
            "1          as2\n",
            "2          as3\n",
            "3          as4\n",
            "4          as5\n",
            "         ...  \n",
            "9663    as9664\n",
            "9664    as9665\n",
            "9665    as9666\n",
            "9666    as9667\n",
            "9667    as9668\n",
            "Name: show_id, Length: 9668, dtype: object\n"
          ]
        }
      ]
    },
    {
      "cell_type": "markdown",
      "source": [
        "* Los valores nulos del campo rating deberán reemplazarse por el string “G” (corresponde al maturity rating: “general for all audiences”.\n",
        "* Se duvuelven los rating sin los valores nulos y reemplazados por “G”:"
      ],
      "metadata": {
        "id": "SLkVkUT-lMg-"
      }
    },
    {
      "cell_type": "code",
      "source": [
        "from pickle import NONE\n",
        "\n",
        "am['rating'] = am['rating'].fillna('G')\n"
      ],
      "metadata": {
        "id": "H9tX0zYGmQFE"
      },
      "execution_count": 4,
      "outputs": []
    },
    {
      "cell_type": "markdown",
      "source": [
        "* De haber fechas, deberán tener el formato AAAA-mm-dd\n",
        "\n"
      ],
      "metadata": {
        "id": "8GPKIydUvv6l"
      }
    },
    {
      "cell_type": "code",
      "source": [
        "from datetime import date\n",
        "from datetime import datetime\n",
        "\n",
        "def es_fecha_valida(valor):\n",
        "    try:\n",
        "        datetime.strptime(valor, '%B %d, %Y')\n",
        "        return True\n",
        "    except ValueError:\n",
        "        return False"
      ],
      "metadata": {
        "id": "aHtioybpfmKf"
      },
      "execution_count": 45,
      "outputs": []
    },
    {
      "cell_type": "code",
      "source": [
        "from datetime import date\n",
        "from datetime import datetime\n",
        "\n",
        "\n",
        "\n",
        "# strptime () permite pasar una cadena simple como 'March 30, 2021'\n",
        "# y una cadena de formato simple '%B %d, %Y' para definir dónde se encuentra el día, el mes y el año,\n",
        "# notar que B es con mayuscula porque el Mes esta en mayuscula y Y esta en mayuscula porque el año\n",
        "# esta completo\n",
        "# strftime () convierte un objeto datetime en una cadena de caracteres.\n",
        "\n",
        "\n",
        "am['date_added'] = am['date_added'].fillna(str)\n",
        "\n",
        "am['date_added'] = am['date_added'].apply(lambda x: datetime.strptime(x, '%B %d, %Y') if (isinstance (x , str) and isinstance(es_fecha_valida(x))) else x)\n",
        "\n",
        "\n",
        "am['date_added'] = am['date_added'].apply(datetime.strftime(am['date_added'], '%Y-%m-%d'))\n",
        "\n"
      ],
      "metadata": {
        "colab": {
          "base_uri": "https://localhost:8080/",
          "height": 415
        },
        "id": "c7jM5CSrv-Zi",
        "outputId": "43d0d39c-a3cd-4758-a5cf-3c67a40437fa"
      },
      "execution_count": 51,
      "outputs": [
        {
          "output_type": "error",
          "ename": "TypeError",
          "evalue": "ignored",
          "traceback": [
            "\u001b[0;31m---------------------------------------------------------------------------\u001b[0m",
            "\u001b[0;31mTypeError\u001b[0m                                 Traceback (most recent call last)",
            "\u001b[0;32m<ipython-input-51-f73361ab2e2a>\u001b[0m in \u001b[0;36m<module>\u001b[0;34m\u001b[0m\n\u001b[1;32m     16\u001b[0m \u001b[0mam\u001b[0m\u001b[0;34m[\u001b[0m\u001b[0;34m'date_added'\u001b[0m\u001b[0;34m]\u001b[0m \u001b[0;34m=\u001b[0m \u001b[0mam\u001b[0m\u001b[0;34m[\u001b[0m\u001b[0;34m'date_added'\u001b[0m\u001b[0;34m]\u001b[0m\u001b[0;34m.\u001b[0m\u001b[0mfillna\u001b[0m\u001b[0;34m(\u001b[0m\u001b[0mstr\u001b[0m\u001b[0;34m)\u001b[0m\u001b[0;34m\u001b[0m\u001b[0;34m\u001b[0m\u001b[0m\n\u001b[1;32m     17\u001b[0m \u001b[0;34m\u001b[0m\u001b[0m\n\u001b[0;32m---> 18\u001b[0;31m \u001b[0mam\u001b[0m\u001b[0;34m[\u001b[0m\u001b[0;34m'date_added'\u001b[0m\u001b[0;34m]\u001b[0m \u001b[0;34m=\u001b[0m \u001b[0mam\u001b[0m\u001b[0;34m[\u001b[0m\u001b[0;34m'date_added'\u001b[0m\u001b[0;34m]\u001b[0m\u001b[0;34m.\u001b[0m\u001b[0mapply\u001b[0m\u001b[0;34m(\u001b[0m\u001b[0;32mlambda\u001b[0m \u001b[0mx\u001b[0m\u001b[0;34m:\u001b[0m \u001b[0mdatetime\u001b[0m\u001b[0;34m.\u001b[0m\u001b[0mstrptime\u001b[0m\u001b[0;34m(\u001b[0m\u001b[0mx\u001b[0m\u001b[0;34m,\u001b[0m \u001b[0;34m'%B %d, %Y'\u001b[0m\u001b[0;34m)\u001b[0m \u001b[0;32mif\u001b[0m \u001b[0;34m(\u001b[0m\u001b[0misinstance\u001b[0m \u001b[0;34m(\u001b[0m\u001b[0mx\u001b[0m \u001b[0;34m,\u001b[0m \u001b[0mstr\u001b[0m\u001b[0;34m)\u001b[0m \u001b[0;32mand\u001b[0m \u001b[0misinstance\u001b[0m\u001b[0;34m(\u001b[0m\u001b[0mes_fecha_valida\u001b[0m\u001b[0;34m(\u001b[0m\u001b[0mx\u001b[0m\u001b[0;34m)\u001b[0m\u001b[0;34m)\u001b[0m\u001b[0;34m)\u001b[0m \u001b[0;32melse\u001b[0m \u001b[0mx\u001b[0m\u001b[0;34m)\u001b[0m\u001b[0;34m\u001b[0m\u001b[0;34m\u001b[0m\u001b[0m\n\u001b[0m\u001b[1;32m     19\u001b[0m \u001b[0;34m\u001b[0m\u001b[0m\n\u001b[1;32m     20\u001b[0m \u001b[0;34m\u001b[0m\u001b[0m\n",
            "\u001b[0;32m/usr/local/lib/python3.9/dist-packages/pandas/core/series.py\u001b[0m in \u001b[0;36mapply\u001b[0;34m(self, func, convert_dtype, args, **kwargs)\u001b[0m\n\u001b[1;32m   4431\u001b[0m         \u001b[0mdtype\u001b[0m\u001b[0;34m:\u001b[0m \u001b[0mfloat64\u001b[0m\u001b[0;34m\u001b[0m\u001b[0;34m\u001b[0m\u001b[0m\n\u001b[1;32m   4432\u001b[0m         \"\"\"\n\u001b[0;32m-> 4433\u001b[0;31m         \u001b[0;32mreturn\u001b[0m \u001b[0mSeriesApply\u001b[0m\u001b[0;34m(\u001b[0m\u001b[0mself\u001b[0m\u001b[0;34m,\u001b[0m \u001b[0mfunc\u001b[0m\u001b[0;34m,\u001b[0m \u001b[0mconvert_dtype\u001b[0m\u001b[0;34m,\u001b[0m \u001b[0margs\u001b[0m\u001b[0;34m,\u001b[0m \u001b[0mkwargs\u001b[0m\u001b[0;34m)\u001b[0m\u001b[0;34m.\u001b[0m\u001b[0mapply\u001b[0m\u001b[0;34m(\u001b[0m\u001b[0;34m)\u001b[0m\u001b[0;34m\u001b[0m\u001b[0;34m\u001b[0m\u001b[0m\n\u001b[0m\u001b[1;32m   4434\u001b[0m \u001b[0;34m\u001b[0m\u001b[0m\n\u001b[1;32m   4435\u001b[0m     def _reduce(\n",
            "\u001b[0;32m/usr/local/lib/python3.9/dist-packages/pandas/core/apply.py\u001b[0m in \u001b[0;36mapply\u001b[0;34m(self)\u001b[0m\n\u001b[1;32m   1086\u001b[0m             \u001b[0;32mreturn\u001b[0m \u001b[0mself\u001b[0m\u001b[0;34m.\u001b[0m\u001b[0mapply_str\u001b[0m\u001b[0;34m(\u001b[0m\u001b[0;34m)\u001b[0m\u001b[0;34m\u001b[0m\u001b[0;34m\u001b[0m\u001b[0m\n\u001b[1;32m   1087\u001b[0m \u001b[0;34m\u001b[0m\u001b[0m\n\u001b[0;32m-> 1088\u001b[0;31m         \u001b[0;32mreturn\u001b[0m \u001b[0mself\u001b[0m\u001b[0;34m.\u001b[0m\u001b[0mapply_standard\u001b[0m\u001b[0;34m(\u001b[0m\u001b[0;34m)\u001b[0m\u001b[0;34m\u001b[0m\u001b[0;34m\u001b[0m\u001b[0m\n\u001b[0m\u001b[1;32m   1089\u001b[0m \u001b[0;34m\u001b[0m\u001b[0m\n\u001b[1;32m   1090\u001b[0m     \u001b[0;32mdef\u001b[0m \u001b[0magg\u001b[0m\u001b[0;34m(\u001b[0m\u001b[0mself\u001b[0m\u001b[0;34m)\u001b[0m\u001b[0;34m:\u001b[0m\u001b[0;34m\u001b[0m\u001b[0;34m\u001b[0m\u001b[0m\n",
            "\u001b[0;32m/usr/local/lib/python3.9/dist-packages/pandas/core/apply.py\u001b[0m in \u001b[0;36mapply_standard\u001b[0;34m(self)\u001b[0m\n\u001b[1;32m   1141\u001b[0m                 \u001b[0;31m# List[Union[Callable[..., Any], str]]]]]\"; expected\u001b[0m\u001b[0;34m\u001b[0m\u001b[0;34m\u001b[0m\u001b[0m\n\u001b[1;32m   1142\u001b[0m                 \u001b[0;31m# \"Callable[[Any], Any]\"\u001b[0m\u001b[0;34m\u001b[0m\u001b[0;34m\u001b[0m\u001b[0m\n\u001b[0;32m-> 1143\u001b[0;31m                 mapped = lib.map_infer(\n\u001b[0m\u001b[1;32m   1144\u001b[0m                     \u001b[0mvalues\u001b[0m\u001b[0;34m,\u001b[0m\u001b[0;34m\u001b[0m\u001b[0;34m\u001b[0m\u001b[0m\n\u001b[1;32m   1145\u001b[0m                     \u001b[0mf\u001b[0m\u001b[0;34m,\u001b[0m  \u001b[0;31m# type: ignore[arg-type]\u001b[0m\u001b[0;34m\u001b[0m\u001b[0;34m\u001b[0m\u001b[0m\n",
            "\u001b[0;32m/usr/local/lib/python3.9/dist-packages/pandas/_libs/lib.pyx\u001b[0m in \u001b[0;36mpandas._libs.lib.map_infer\u001b[0;34m()\u001b[0m\n",
            "\u001b[0;32m<ipython-input-51-f73361ab2e2a>\u001b[0m in \u001b[0;36m<lambda>\u001b[0;34m(x)\u001b[0m\n\u001b[1;32m     16\u001b[0m \u001b[0mam\u001b[0m\u001b[0;34m[\u001b[0m\u001b[0;34m'date_added'\u001b[0m\u001b[0;34m]\u001b[0m \u001b[0;34m=\u001b[0m \u001b[0mam\u001b[0m\u001b[0;34m[\u001b[0m\u001b[0;34m'date_added'\u001b[0m\u001b[0;34m]\u001b[0m\u001b[0;34m.\u001b[0m\u001b[0mfillna\u001b[0m\u001b[0;34m(\u001b[0m\u001b[0mstr\u001b[0m\u001b[0;34m)\u001b[0m\u001b[0;34m\u001b[0m\u001b[0;34m\u001b[0m\u001b[0m\n\u001b[1;32m     17\u001b[0m \u001b[0;34m\u001b[0m\u001b[0m\n\u001b[0;32m---> 18\u001b[0;31m \u001b[0mam\u001b[0m\u001b[0;34m[\u001b[0m\u001b[0;34m'date_added'\u001b[0m\u001b[0;34m]\u001b[0m \u001b[0;34m=\u001b[0m \u001b[0mam\u001b[0m\u001b[0;34m[\u001b[0m\u001b[0;34m'date_added'\u001b[0m\u001b[0;34m]\u001b[0m\u001b[0;34m.\u001b[0m\u001b[0mapply\u001b[0m\u001b[0;34m(\u001b[0m\u001b[0;32mlambda\u001b[0m \u001b[0mx\u001b[0m\u001b[0;34m:\u001b[0m \u001b[0mdatetime\u001b[0m\u001b[0;34m.\u001b[0m\u001b[0mstrptime\u001b[0m\u001b[0;34m(\u001b[0m\u001b[0mx\u001b[0m\u001b[0;34m,\u001b[0m \u001b[0;34m'%B %d, %Y'\u001b[0m\u001b[0;34m)\u001b[0m \u001b[0;32mif\u001b[0m \u001b[0;34m(\u001b[0m\u001b[0misinstance\u001b[0m \u001b[0;34m(\u001b[0m\u001b[0mx\u001b[0m \u001b[0;34m,\u001b[0m \u001b[0mstr\u001b[0m\u001b[0;34m)\u001b[0m \u001b[0;32mand\u001b[0m \u001b[0misinstance\u001b[0m\u001b[0;34m(\u001b[0m\u001b[0mes_fecha_valida\u001b[0m\u001b[0;34m(\u001b[0m\u001b[0mx\u001b[0m\u001b[0;34m)\u001b[0m\u001b[0;34m)\u001b[0m\u001b[0;34m)\u001b[0m \u001b[0;32melse\u001b[0m \u001b[0mx\u001b[0m\u001b[0;34m)\u001b[0m\u001b[0;34m\u001b[0m\u001b[0;34m\u001b[0m\u001b[0m\n\u001b[0m\u001b[1;32m     19\u001b[0m \u001b[0;34m\u001b[0m\u001b[0m\n\u001b[1;32m     20\u001b[0m \u001b[0;34m\u001b[0m\u001b[0m\n",
            "\u001b[0;31mTypeError\u001b[0m: isinstance expected 2 arguments, got 1"
          ]
        }
      ]
    },
    {
      "cell_type": "markdown",
      "source": [
        "* Los campos de texto deberán estar en minúsculas, sin excepciones\n",
        "\n"
      ],
      "metadata": {
        "id": "JpTcauK8arWx"
      }
    },
    {
      "cell_type": "code",
      "source": [
        "# lower() devuelve una copia de la cadena en minúsculas.\n",
        "\n",
        "am = am.applymap(lambda x: x.lower() if isinstance(x, str) else x)\n",
        "print (am)\n",
        "\n"
      ],
      "metadata": {
        "id": "xZlVH349axxR",
        "colab": {
          "base_uri": "https://localhost:8080/",
          "height": 0
        },
        "outputId": "30cf196a-7f33-4e28-b0bb-4a7771d734b2"
      },
      "execution_count": 34,
      "outputs": [
        {
          "output_type": "stream",
          "name": "stdout",
          "text": [
            "     show_id     type                    title         director  \\\n",
            "0        as1    movie      the grand seduction     don mckellar   \n",
            "1        as2    movie     take care good night     girish joshi   \n",
            "2        as3    movie     secrets of deception      josh webber   \n",
            "3        as4    movie       pink: staying true   sonia anderson   \n",
            "4        as5    movie            monster maker     giles foster   \n",
            "...      ...      ...                      ...              ...   \n",
            "9663  as9664    movie      pride of the bowery  joseph h. lewis   \n",
            "9664  as9665  tv show            planet patrol              NaN   \n",
            "9665  as9666    movie                  outpost     steve barker   \n",
            "9666  as9667  tv show  maradona: blessed dream              NaN   \n",
            "9667  as9668    movie              harry brown    daniel barber   \n",
            "\n",
            "                                                   cast         country  \\\n",
            "0        brendan gleeson, taylor kitsch, gordon pinsent          canada   \n",
            "1      mahesh manjrekar, abhay mahajan, sachin khedekar           india   \n",
            "2     tom sizemore, lorenzo lamas, robert lasardo, r...   united states   \n",
            "3     interviews with: pink, adele, beyoncé, britney...   united states   \n",
            "4     harry dean stanton, kieran o'brien, george cos...  united kingdom   \n",
            "...                                                 ...             ...   \n",
            "9663                           leo gorcey, bobby jordan             NaN   \n",
            "9664  dick vosburgh, ronnie stevens, libby morris, m...             NaN   \n",
            "9665  ray stevenson, julian wadham, richard brake, m...             NaN   \n",
            "9666  esteban recagno, ezequiel stremiz, luciano vit...             NaN   \n",
            "9667  michael caine, emily mortimer, joseph gilgun, ...             NaN   \n",
            "\n",
            "          date_added  release_year rating   duration                listed_in  \\\n",
            "0     march 30, 2021          2014      g    113 min            comedy, drama   \n",
            "1     march 30, 2021          2018    13+    110 min     drama, international   \n",
            "2     march 30, 2021          2017      g     74 min  action, drama, suspense   \n",
            "3     march 30, 2021          2014      g     69 min              documentary   \n",
            "4     march 30, 2021          1989      g     45 min           drama, fantasy   \n",
            "...              ...           ...    ...        ...                      ...   \n",
            "9663             nan          1940     7+     60 min                   comedy   \n",
            "9664             nan          2018    13+  4 seasons                 tv shows   \n",
            "9665             nan          2008      r     90 min                   action   \n",
            "9666             nan          2021  tv-ma   1 season            drama, sports   \n",
            "9667             nan          2010      r    103 min  action, drama, suspense   \n",
            "\n",
            "                                            description  \n",
            "0     a small fishing village must procure a local d...  \n",
            "1     a metro family decides to fight a cyber crimin...  \n",
            "2     after a man discovers his wife is cheating on ...  \n",
            "3     pink breaks the mold once again, bringing her ...  \n",
            "4     teenage matt banting wants to work with a famo...  \n",
            "...                                                 ...  \n",
            "9663  new york city street principles get an east si...  \n",
            "9664  this is earth, 2100ad - and these are the adve...  \n",
            "9665  in war-torn eastern europe, a world-weary grou...  \n",
            "9666  the series tells the story of diego maradona, ...  \n",
            "9667  harry brown, starring two-time academy award w...  \n",
            "\n",
            "[9668 rows x 12 columns]\n"
          ]
        }
      ]
    },
    {
      "cell_type": "markdown",
      "source": [
        "* El campo duration debe convertirse en dos campos: duration_int y duration_type. El primero será un integer y el segundo un string indicando la unidad de medición de duración: min (minutos) o season (temporadas)\n"
      ],
      "metadata": {
        "id": "-nl7KMW_aybx"
      }
    },
    {
      "cell_type": "code",
      "source": [
        "am[['duration_int', 'duration_type']] = am['duration'].str.split(' ', n=1, expand=True)\n",
        "am = am.drop(columns=['duration'])\n",
        "print (am)\n",
        "\n"
      ],
      "metadata": {
        "id": "ZyzhK6pxdM0U",
        "colab": {
          "base_uri": "https://localhost:8080/",
          "height": 0
        },
        "outputId": "378f6970-4930-434c-f871-d1bf1cbb7c74"
      },
      "execution_count": 38,
      "outputs": [
        {
          "output_type": "stream",
          "name": "stdout",
          "text": [
            "     show_id     type                    title         director  \\\n",
            "0        as1    movie      the grand seduction     don mckellar   \n",
            "1        as2    movie     take care good night     girish joshi   \n",
            "2        as3    movie     secrets of deception      josh webber   \n",
            "3        as4    movie       pink: staying true   sonia anderson   \n",
            "4        as5    movie            monster maker     giles foster   \n",
            "...      ...      ...                      ...              ...   \n",
            "9663  as9664    movie      pride of the bowery  joseph h. lewis   \n",
            "9664  as9665  tv show            planet patrol              NaN   \n",
            "9665  as9666    movie                  outpost     steve barker   \n",
            "9666  as9667  tv show  maradona: blessed dream              NaN   \n",
            "9667  as9668    movie              harry brown    daniel barber   \n",
            "\n",
            "                                                   cast         country  \\\n",
            "0        brendan gleeson, taylor kitsch, gordon pinsent          canada   \n",
            "1      mahesh manjrekar, abhay mahajan, sachin khedekar           india   \n",
            "2     tom sizemore, lorenzo lamas, robert lasardo, r...   united states   \n",
            "3     interviews with: pink, adele, beyoncé, britney...   united states   \n",
            "4     harry dean stanton, kieran o'brien, george cos...  united kingdom   \n",
            "...                                                 ...             ...   \n",
            "9663                           leo gorcey, bobby jordan             NaN   \n",
            "9664  dick vosburgh, ronnie stevens, libby morris, m...             NaN   \n",
            "9665  ray stevenson, julian wadham, richard brake, m...             NaN   \n",
            "9666  esteban recagno, ezequiel stremiz, luciano vit...             NaN   \n",
            "9667  michael caine, emily mortimer, joseph gilgun, ...             NaN   \n",
            "\n",
            "          date_added  release_year rating                listed_in  \\\n",
            "0     march 30, 2021          2014      g            comedy, drama   \n",
            "1     march 30, 2021          2018    13+     drama, international   \n",
            "2     march 30, 2021          2017      g  action, drama, suspense   \n",
            "3     march 30, 2021          2014      g              documentary   \n",
            "4     march 30, 2021          1989      g           drama, fantasy   \n",
            "...              ...           ...    ...                      ...   \n",
            "9663             nan          1940     7+                   comedy   \n",
            "9664             nan          2018    13+                 tv shows   \n",
            "9665             nan          2008      r                   action   \n",
            "9666             nan          2021  tv-ma            drama, sports   \n",
            "9667             nan          2010      r  action, drama, suspense   \n",
            "\n",
            "                                            description duration_int  \\\n",
            "0     a small fishing village must procure a local d...          NaN   \n",
            "1     a metro family decides to fight a cyber crimin...          110   \n",
            "2     after a man discovers his wife is cheating on ...           74   \n",
            "3     pink breaks the mold once again, bringing her ...           69   \n",
            "4     teenage matt banting wants to work with a famo...           45   \n",
            "...                                                 ...          ...   \n",
            "9663  new york city street principles get an east si...           60   \n",
            "9664  this is earth, 2100ad - and these are the adve...            4   \n",
            "9665  in war-torn eastern europe, a world-weary grou...           90   \n",
            "9666  the series tells the story of diego maradona, ...            1   \n",
            "9667  harry brown, starring two-time academy award w...          103   \n",
            "\n",
            "     duration_type  \n",
            "0              NaN  \n",
            "1              min  \n",
            "2              min  \n",
            "3              min  \n",
            "4              min  \n",
            "...            ...  \n",
            "9663           min  \n",
            "9664       seasons  \n",
            "9665           min  \n",
            "9666        season  \n",
            "9667           min  \n",
            "\n",
            "[9668 rows x 13 columns]\n"
          ]
        }
      ]
    },
    {
      "cell_type": "code",
      "source": [
        "print(am)"
      ],
      "metadata": {
        "colab": {
          "base_uri": "https://localhost:8080/"
        },
        "id": "I53vkKI1hOfA",
        "outputId": "7f0d9454-9039-40bd-96c3-d91ac1fa5d96"
      },
      "execution_count": null,
      "outputs": [
        {
          "output_type": "stream",
          "name": "stdout",
          "text": [
            "       show_id     type                    title         director  \\\n",
            "0        aaas1    Movie      The Grand Seduction   [don mckellar]   \n",
            "1        aaas2    Movie     Take Care Good Night     Girish Joshi   \n",
            "2        aaas3    Movie     Secrets of Deception      Josh Webber   \n",
            "3        aaas4    Movie       Pink: Staying True   Sonia Anderson   \n",
            "4        aaas5    Movie            Monster Maker     Giles Foster   \n",
            "...        ...      ...                      ...              ...   \n",
            "9663  aaas9664    Movie      Pride Of The Bowery  Joseph H. Lewis   \n",
            "9664  aaas9665  TV Show            Planet Patrol              NaN   \n",
            "9665  aaas9666    Movie                  Outpost     Steve Barker   \n",
            "9666  aaas9667  TV Show  Maradona: Blessed Dream              NaN   \n",
            "9667  aaas9668    Movie              Harry Brown    Daniel Barber   \n",
            "\n",
            "                                                   cast         country  \\\n",
            "0        Brendan Gleeson, Taylor Kitsch, Gordon Pinsent          Canada   \n",
            "1      Mahesh Manjrekar, Abhay Mahajan, Sachin Khedekar           India   \n",
            "2     Tom Sizemore, Lorenzo Lamas, Robert LaSardo, R...   United States   \n",
            "3     Interviews with: Pink, Adele, Beyoncé, Britney...   United States   \n",
            "4     Harry Dean Stanton, Kieran O'Brien, George Cos...  United Kingdom   \n",
            "...                                                 ...             ...   \n",
            "9663                           Leo Gorcey, Bobby Jordan             NaN   \n",
            "9664  DICK VOSBURGH, RONNIE STEVENS, LIBBY MORRIS, M...             NaN   \n",
            "9665  Ray Stevenson, Julian Wadham, Richard Brake, M...             NaN   \n",
            "9666  Esteban Recagno, Ezequiel Stremiz, Luciano Vit...             NaN   \n",
            "9667  Michael Caine, Emily Mortimer, Joseph Gilgun, ...             NaN   \n",
            "\n",
            "          date_added  release_year rating  \\\n",
            "0       [2021-03-30]          2014    NaN   \n",
            "1     March 30, 2021          2018    13+   \n",
            "2     March 30, 2021          2017    NaN   \n",
            "3     March 30, 2021          2014    NaN   \n",
            "4     March 30, 2021          1989    NaN   \n",
            "...              ...           ...    ...   \n",
            "9663             NaN          1940     7+   \n",
            "9664             NaN          2018    13+   \n",
            "9665             NaN          2008      R   \n",
            "9666             NaN          2021  TV-MA   \n",
            "9667             NaN          2010      R   \n",
            "\n",
            "                                               duration  \\\n",
            "0     {'duration_int': ['113'], 'duration_type': ['m...   \n",
            "1                                               110 min   \n",
            "2                                                74 min   \n",
            "3                                                69 min   \n",
            "4                                                45 min   \n",
            "...                                                 ...   \n",
            "9663                                             60 min   \n",
            "9664                                          4 Seasons   \n",
            "9665                                             90 min   \n",
            "9666                                           1 Season   \n",
            "9667                                            103 min   \n",
            "\n",
            "                    listed_in  \\\n",
            "0               Comedy, Drama   \n",
            "1        Drama, International   \n",
            "2     Action, Drama, Suspense   \n",
            "3                 Documentary   \n",
            "4              Drama, Fantasy   \n",
            "...                       ...   \n",
            "9663                   Comedy   \n",
            "9664                 TV Shows   \n",
            "9665                   Action   \n",
            "9666            Drama, Sports   \n",
            "9667  Action, Drama, Suspense   \n",
            "\n",
            "                                            description  \n",
            "0     A small fishing village must procure a local d...  \n",
            "1     A Metro Family decides to fight a Cyber Crimin...  \n",
            "2     After a man discovers his wife is cheating on ...  \n",
            "3     Pink breaks the mold once again, bringing her ...  \n",
            "4     Teenage Matt Banting wants to work with a famo...  \n",
            "...                                                 ...  \n",
            "9663  New York City street principles get an East Si...  \n",
            "9664  This is Earth, 2100AD - and these are the adve...  \n",
            "9665  In war-torn Eastern Europe, a world-weary grou...  \n",
            "9666  The series tells the story of Diego Maradona, ...  \n",
            "9667  Harry Brown, starring two-time Academy Award w...  \n",
            "\n",
            "[9668 rows x 12 columns]\n"
          ]
        }
      ]
    },
    {
      "cell_type": "code",
      "source": [
        "files.download('amazon_prime_titles.csv')"
      ],
      "metadata": {
        "colab": {
          "base_uri": "https://localhost:8080/",
          "height": 17
        },
        "id": "DjCKWsIWKqay",
        "outputId": "104f16f1-e335-430e-8118-a0378428cd23"
      },
      "execution_count": null,
      "outputs": [
        {
          "output_type": "display_data",
          "data": {
            "text/plain": [
              "<IPython.core.display.Javascript object>"
            ],
            "application/javascript": [
              "\n",
              "    async function download(id, filename, size) {\n",
              "      if (!google.colab.kernel.accessAllowed) {\n",
              "        return;\n",
              "      }\n",
              "      const div = document.createElement('div');\n",
              "      const label = document.createElement('label');\n",
              "      label.textContent = `Downloading \"${filename}\": `;\n",
              "      div.appendChild(label);\n",
              "      const progress = document.createElement('progress');\n",
              "      progress.max = size;\n",
              "      div.appendChild(progress);\n",
              "      document.body.appendChild(div);\n",
              "\n",
              "      const buffers = [];\n",
              "      let downloaded = 0;\n",
              "\n",
              "      const channel = await google.colab.kernel.comms.open(id);\n",
              "      // Send a message to notify the kernel that we're ready.\n",
              "      channel.send({})\n",
              "\n",
              "      for await (const message of channel.messages) {\n",
              "        // Send a message to notify the kernel that we're ready.\n",
              "        channel.send({})\n",
              "        if (message.buffers) {\n",
              "          for (const buffer of message.buffers) {\n",
              "            buffers.push(buffer);\n",
              "            downloaded += buffer.byteLength;\n",
              "            progress.value = downloaded;\n",
              "          }\n",
              "        }\n",
              "      }\n",
              "      const blob = new Blob(buffers, {type: 'application/binary'});\n",
              "      const a = document.createElement('a');\n",
              "      a.href = window.URL.createObjectURL(blob);\n",
              "      a.download = filename;\n",
              "      div.appendChild(a);\n",
              "      a.click();\n",
              "      div.remove();\n",
              "    }\n",
              "  "
            ]
          },
          "metadata": {}
        },
        {
          "output_type": "display_data",
          "data": {
            "text/plain": [
              "<IPython.core.display.Javascript object>"
            ],
            "application/javascript": [
              "download(\"download_32419d8a-60b8-4c8b-827f-0294bb638422\", \"amazon_prime_titles.csv\", 3982104)"
            ]
          },
          "metadata": {}
        }
      ]
    }
  ]
}